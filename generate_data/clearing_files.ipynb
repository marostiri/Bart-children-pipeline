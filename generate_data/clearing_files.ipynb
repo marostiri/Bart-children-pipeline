{
 "cells": [
  {
   "cell_type": "code",
   "execution_count": null,
   "metadata": {},
   "outputs": [],
   "source": [
    "import os\n",
    "import re"
   ]
  },
  {
   "cell_type": "markdown",
   "metadata": {},
   "source": [
    "EXECUTION"
   ]
  },
  {
   "cell_type": "code",
   "execution_count": null,
   "metadata": {},
   "outputs": [],
   "source": [
    "# Path to folder\n",
    "PATH_NORMAL_PAGEs = \"\"\n",
    "PATH_CLEANED_PAGEs = \"\""
   ]
  },
  {
   "cell_type": "code",
   "execution_count": null,
   "metadata": {},
   "outputs": [],
   "source": [
    "os.chdir(PATH_NORMAL_PAGEs)\n",
    "os.getcwd()"
   ]
  },
  {
   "cell_type": "code",
   "execution_count": null,
   "metadata": {},
   "outputs": [],
   "source": [
    "list_all_files = os.listdir()"
   ]
  },
  {
   "cell_type": "code",
   "execution_count": null,
   "metadata": {},
   "outputs": [],
   "source": [
    "os.getcwd()"
   ]
  },
  {
   "cell_type": "code",
   "execution_count": null,
   "metadata": {},
   "outputs": [],
   "source": [
    "list_banned = []\n",
    "for file in list_all_files:\n",
    "    with open(file, 'r', encoding=\"utf-8\") as f:\n",
    "        r = f.read()\n",
    "        if \"<h2>General</h2>ambiguo\" in r or \"<h2>General</h2>inesistente\" in r or \"/Utente:\" in file:\n",
    "            list_banned.append(file[5:])"
   ]
  },
  {
   "cell_type": "code",
   "execution_count": null,
   "metadata": {},
   "outputs": [],
   "source": [
    "list_banned"
   ]
  },
  {
   "cell_type": "code",
   "execution_count": null,
   "metadata": {},
   "outputs": [],
   "source": [
    "os.chdir('..')"
   ]
  },
  {
   "cell_type": "code",
   "execution_count": null,
   "metadata": {},
   "outputs": [],
   "source": [
    "os.getcwd()"
   ]
  },
  {
   "cell_type": "code",
   "execution_count": null,
   "metadata": {},
   "outputs": [],
   "source": [
    "set_name = set()\n",
    "for file in list_all_files:\n",
    "    if file[5:] not in list_banned:\n",
    "        set_name.add(file)\n",
    "        os.chdir(PATH_NORMAL_PAGEs)\n",
    "        r = None\n",
    "        with open(file, 'r', encoding=\"utf-8\") as f:\n",
    "            r = f.read()\n",
    "\n",
    "        os.chdir('..')\n",
    "        os.chdir(PATH_CLEANED_PAGEs)\n",
    "        with open(file, 'w',encoding=\"utf-8\") as f:\n",
    "            decoded_str = r\n",
    "            no_strange_space = decoded_str.replace(u\"\\u00a0\", \" \")\n",
    "            no_strange_segment = no_strange_space.replace(u\"\\u2013\", \"-\")\n",
    "            no_strange_apice = no_strange_segment.replace(u\"\\u2019\", \"'\")\n",
    "            #togliere il 106 esimo (106^o)\n",
    "            no_more_enters = re.sub(r\"\\n\\n\", \"\\n\", no_strange_apice)\n",
    "            no_more_enters = re.sub(r\"\\n\\n\\n\", \"\\n\", no_more_enters)\n",
    "            f.write(no_more_enters)\n",
    "            \n",
    "        os.chdir('..')\n",
    "    else:\n",
    "        print(file)"
   ]
  },
  {
   "cell_type": "code",
   "execution_count": null,
   "metadata": {},
   "outputs": [],
   "source": [
    "list_set_name = list(set_name)\n",
    "list_set_name.sort()"
   ]
  },
  {
   "cell_type": "code",
   "execution_count": null,
   "metadata": {},
   "outputs": [],
   "source": [
    "list_set_name"
   ]
  },
  {
   "cell_type": "code",
   "execution_count": null,
   "metadata": {},
   "outputs": [],
   "source": [
    "with open(\"link_final.txt\", \"w\") as f:\n",
    "    for item in list_set_name:\n",
    "        f.write(item)\n",
    "        f.write(\"\\n\")"
   ]
  }
 ],
 "metadata": {
  "kernelspec": {
   "display_name": "Python 3",
   "language": "python",
   "name": "python3"
  },
  "language_info": {
   "codemirror_mode": {
    "name": "ipython",
    "version": 3
   },
   "file_extension": ".py",
   "mimetype": "text/x-python",
   "name": "python",
   "nbconvert_exporter": "python",
   "pygments_lexer": "ipython3",
   "version": "3.12.0"
  }
 },
 "nbformat": 4,
 "nbformat_minor": 2
}
