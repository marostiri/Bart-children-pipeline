{
 "cells": [
  {
   "cell_type": "code",
   "execution_count": null,
   "metadata": {},
   "outputs": [],
   "source": [
    "!pip install pandas"
   ]
  },
  {
   "cell_type": "code",
   "execution_count": null,
   "metadata": {},
   "outputs": [],
   "source": [
    "import pandas as pd\n",
    "import os\n",
    "import re"
   ]
  },
  {
   "cell_type": "code",
   "execution_count": null,
   "metadata": {},
   "outputs": [],
   "source": [
    "# Path to directly to dataset in Final\n",
    "PATH_TO_DATASET = \"\"\n",
    "# Path to cleaned pages\n",
    "PATH_CLEANED_PAGEs = \"\"\n",
    "# Path to 'Final' folder\n",
    "PATH_TO_FINAL_FOLDER = \"\""
   ]
  },
  {
   "cell_type": "code",
   "execution_count": null,
   "metadata": {},
   "outputs": [],
   "source": [
    "with open(PATH_TO_DATASET, \"r\") as f:\n",
    "    list_files_check = f.readlines()"
   ]
  },
  {
   "cell_type": "code",
   "execution_count": null,
   "metadata": {},
   "outputs": [],
   "source": [
    "list_files_check[0].strip()"
   ]
  },
  {
   "cell_type": "code",
   "execution_count": null,
   "metadata": {},
   "outputs": [],
   "source": [
    "os.chdir(PATH_CLEANED_PAGEs)\n"
   ]
  },
  {
   "cell_type": "code",
   "execution_count": null,
   "metadata": {},
   "outputs": [],
   "source": [
    "list_all_files = sorted(os.listdir())"
   ]
  },
  {
   "cell_type": "code",
   "execution_count": null,
   "metadata": {},
   "outputs": [],
   "source": [
    "def open_and_retrive_data(name_file):\n",
    "    first_pos = 0\n",
    "    last_pos = 0\n",
    "    with open(name_file, 'r', encoding=\"utf8\") as f:\n",
    "            file_content = str(f.read().encode().decode())\n",
    "\n",
    "            first_pos = file_content.find(\"</h2>\") + 5\n",
    "            pos_h_i = []\n",
    "            pos_h_i.append(file_content[first_pos:].find(\"<h1>\"))\n",
    "            pos_h_i.append(file_content[first_pos:].find(\"<h2>\"))\n",
    "            pos_h_i.append(file_content[first_pos:].find(\"<h3>\"))\n",
    "            pos_h_i.append(file_content[first_pos:].find(\"<h4>\"))\n",
    "            pos_h_i.append(file_content[first_pos:].find(\"<h5>\"))\n",
    "            pos_h_i = [x for x in pos_h_i if x > 0]\n",
    "            if pos_h_i:\n",
    "                pos_h_f = min(pos_h_i)\n",
    "            else:\n",
    "                pos_h_f = file_content[first_pos:].find(\"<h2>\")\n",
    "            last_pos =  pos_h_f + first_pos\n",
    "            if last_pos < first_pos:\n",
    "                last_pos = len(file_content)\n",
    "            content = file_content[first_pos:last_pos].strip()\n",
    "            return content\n",
    "            \n",
    "            "
   ]
  },
  {
   "cell_type": "code",
   "execution_count": null,
   "metadata": {},
   "outputs": [],
   "source": [
    "simple_files = []\n",
    "wiki_files = []\n",
    "\n",
    "for name_file in list_files_check:\n",
    "    if name_file.strip() in name_file:\n",
    "        viki_file_name = \"viki-\" + name_file.strip()\n",
    "        wiki_file_name = \"wiki-\" + name_file.strip()\n",
    "        simple_files.append(open_and_retrive_data(viki_file_name))\n",
    "        wiki_files.append(open_and_retrive_data(wiki_file_name))\n"
   ]
  },
  {
   "cell_type": "code",
   "execution_count": null,
   "metadata": {},
   "outputs": [],
   "source": [
    "dataset_build = pd.DataFrame({\"normal\": wiki_files, \"simplified\": simple_files})\n",
    "dataset_build"
   ]
  },
  {
   "cell_type": "code",
   "execution_count": null,
   "metadata": {},
   "outputs": [],
   "source": [
    "os.chdir(PATH_TO_FINAL_FOLDER)"
   ]
  },
  {
   "cell_type": "code",
   "execution_count": null,
   "metadata": {},
   "outputs": [],
   "source": [
    "dataset_build.dropna(inplace=True)"
   ]
  },
  {
   "cell_type": "code",
   "execution_count": null,
   "metadata": {},
   "outputs": [],
   "source": [
    "dataset_build.to_csv(\"candidate_full_80.csv\", sep=\"¶\", header=True)"
   ]
  }
 ],
 "metadata": {
  "kernelspec": {
   "display_name": "Python 3",
   "language": "python",
   "name": "python3"
  },
  "language_info": {
   "codemirror_mode": {
    "name": "ipython",
    "version": 3
   },
   "file_extension": ".py",
   "mimetype": "text/x-python",
   "name": "python",
   "nbconvert_exporter": "python",
   "pygments_lexer": "ipython3",
   "version": "3.12.0"
  }
 },
 "nbformat": 4,
 "nbformat_minor": 2
}
