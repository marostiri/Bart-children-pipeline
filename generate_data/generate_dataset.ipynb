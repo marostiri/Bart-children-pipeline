{
 "cells": [
  {
   "cell_type": "code",
   "execution_count": 1,
   "metadata": {},
   "outputs": [],
   "source": [
    "import pandas as pd\n",
    "import os\n",
    "import re"
   ]
  },
  {
   "cell_type": "code",
   "execution_count": 2,
   "metadata": {},
   "outputs": [],
   "source": [
    "target_file = \"candidate_full_80.txt\""
   ]
  },
  {
   "cell_type": "code",
   "execution_count": 3,
   "metadata": {},
   "outputs": [
    {
     "data": {
      "text/plain": [
       "'c:\\\\Users\\\\andre\\\\Desktop\\\\Bicocca\\\\tesi magi\\\\scraping\\\\final_code'"
      ]
     },
     "execution_count": 3,
     "metadata": {},
     "output_type": "execute_result"
    }
   ],
   "source": [
    "os.getcwd()"
   ]
  },
  {
   "cell_type": "code",
   "execution_count": 4,
   "metadata": {},
   "outputs": [],
   "source": [
    "with open(\"dataset/\"+target_file, \"r\") as f:\n",
    "    list_files_check = f.readlines()"
   ]
  },
  {
   "cell_type": "code",
   "execution_count": 5,
   "metadata": {},
   "outputs": [
    {
     "data": {
      "text/plain": [
       "'%2739.html'"
      ]
     },
     "execution_count": 5,
     "metadata": {},
     "output_type": "execute_result"
    }
   ],
   "source": [
    "list_files_check[0].strip()"
   ]
  },
  {
   "cell_type": "code",
   "execution_count": 6,
   "metadata": {},
   "outputs": [],
   "source": [
    "os.chdir('../scraper/scraped-pages/cleaned')\n"
   ]
  },
  {
   "cell_type": "code",
   "execution_count": 7,
   "metadata": {},
   "outputs": [],
   "source": [
    "list_all_files = sorted(os.listdir())"
   ]
  },
  {
   "cell_type": "code",
   "execution_count": 8,
   "metadata": {},
   "outputs": [],
   "source": [
    "def contains_unusual_accents(word):\n",
    "    for char in word:\n",
    "        # Check if the character is a letter with an accent\n",
    "        if unicodedata.category(char).startswith('L'):\n",
    "            # Get the name of the character\n",
    "            char_name = unicodedata.name(char)\n",
    "            # Check if the character is an accented character that is not acute or grave\n",
    "            if 'WITH ACUTE' not in char_name and 'WITH GRAVE' not in char_name:\n",
    "                if 'WITH' in char_name:\n",
    "                    return True\n",
    "    return False\n",
    "\n",
    "def has_numbers(inputString):\n",
    "    return any(char.isdigit() for char in inputString)"
   ]
  },
  {
   "cell_type": "code",
   "execution_count": 9,
   "metadata": {},
   "outputs": [
    {
     "ename": "NameError",
     "evalue": "name 'regex' is not defined",
     "output_type": "error",
     "traceback": [
      "\u001b[1;31m---------------------------------------------------------------------------\u001b[0m",
      "\u001b[1;31mNameError\u001b[0m                                 Traceback (most recent call last)",
      "Cell \u001b[1;32mIn[9], line 2\u001b[0m\n\u001b[0;32m      1\u001b[0m testo \u001b[38;5;241m=\u001b[39m \u001b[38;5;124m\"\u001b[39m\u001b[38;5;124mQuest\u001b[39m\u001b[38;5;124m'\u001b[39m\u001b[38;5;124mè una frase con pa0ole 1234 e Åmli  sñmb0li $\u001b[39m\u001b[38;5;124m%\u001b[39m\u001b[38;5;124m& (ˈʣunɡri) façade Звечан.\u001b[39m\u001b[38;5;130;01m\\n\u001b[39;00m\u001b[38;5;124mciao\u001b[39m\u001b[38;5;124m\"\u001b[39m\n\u001b[1;32m----> 2\u001b[0m parole_non_contenenti \u001b[38;5;241m=\u001b[39m re\u001b[38;5;241m.\u001b[39msub(\u001b[43mregex\u001b[49m, \u001b[38;5;124m\"\u001b[39m\u001b[38;5;124m \u001b[39m\u001b[38;5;124m\"\u001b[39m, testo)\n\u001b[0;32m      3\u001b[0m splitted_parole_non_contenenti \u001b[38;5;241m=\u001b[39m parole_non_contenenti\u001b[38;5;241m.\u001b[39msplit()\n\u001b[0;32m      4\u001b[0m parole_non_contenenti \u001b[38;5;241m=\u001b[39m []\n",
      "\u001b[1;31mNameError\u001b[0m: name 'regex' is not defined"
     ]
    }
   ],
   "source": [
    "testo = \"Quest'è una frase con pa0ole 1234 e Åmli  sñmb0li $%& (ˈʣunɡri) façade Звечан.\\nciao\"\n",
    "parole_non_contenenti = re.sub(regex, \" \", testo)\n",
    "splitted_parole_non_contenenti = parole_non_contenenti.split()\n",
    "parole_non_contenenti = []\n",
    "for worddd in splitted_parole_non_contenenti:\n",
    "    if contains_unusual_accents(worddd):\n",
    "        parole_non_contenenti.append(worddd)\n",
    "print(parole_non_contenenti)\n",
    "print(splitted_parole_non_contenenti)"
   ]
  },
  {
   "cell_type": "code",
   "execution_count": null,
   "metadata": {},
   "outputs": [],
   "source": [
    "def remove_special_accent(text):\n",
    "    "
   ]
  },
  {
   "cell_type": "code",
   "execution_count": 8,
   "metadata": {},
   "outputs": [],
   "source": [
    "def open_and_retrive_data(name_file):\n",
    "    first_pos = 0\n",
    "    last_pos = 0\n",
    "    with open(name_file, 'r', encoding=\"utf8\") as f:\n",
    "            file_content = str(f.read().encode().decode())\n",
    "\n",
    "            first_pos = file_content.find(\"</h2>\") + 5\n",
    "            pos_h_i = []\n",
    "            pos_h_i.append(file_content[first_pos:].find(\"<h1>\"))\n",
    "            pos_h_i.append(file_content[first_pos:].find(\"<h2>\"))\n",
    "            pos_h_i.append(file_content[first_pos:].find(\"<h3>\"))\n",
    "            pos_h_i.append(file_content[first_pos:].find(\"<h4>\"))\n",
    "            pos_h_i.append(file_content[first_pos:].find(\"<h5>\"))\n",
    "            pos_h_i = [x for x in pos_h_i if x > 0]\n",
    "            if pos_h_i:\n",
    "                pos_h_f = min(pos_h_i)\n",
    "            else:\n",
    "                pos_h_f = file_content[first_pos:].find(\"<h2>\")\n",
    "            last_pos =  pos_h_f + first_pos\n",
    "            if last_pos < first_pos:\n",
    "                last_pos = len(file_content)\n",
    "            content = file_content[first_pos:last_pos].strip()\n",
    "            return content\n",
    "            \n",
    "            "
   ]
  },
  {
   "cell_type": "code",
   "execution_count": 9,
   "metadata": {},
   "outputs": [],
   "source": [
    "simple_files = []\n",
    "wiki_files = []\n",
    "\n",
    "for name_file in list_files_check:\n",
    "    if name_file.strip() in name_file:\n",
    "        viki_file_name = \"viki-\" + name_file.strip()\n",
    "        wiki_file_name = \"wiki-\" + name_file.strip()\n",
    "        simple_files.append(open_and_retrive_data(viki_file_name))\n",
    "        wiki_files.append(open_and_retrive_data(wiki_file_name))\n"
   ]
  },
  {
   "cell_type": "code",
   "execution_count": 10,
   "metadata": {},
   "outputs": [
    {
     "data": {
      "text/html": [
       "<div>\n",
       "<style scoped>\n",
       "    .dataframe tbody tr th:only-of-type {\n",
       "        vertical-align: middle;\n",
       "    }\n",
       "\n",
       "    .dataframe tbody tr th {\n",
       "        vertical-align: top;\n",
       "    }\n",
       "\n",
       "    .dataframe thead th {\n",
       "        text-align: right;\n",
       "    }\n",
       "</style>\n",
       "<table border=\"1\" class=\"dataframe\">\n",
       "  <thead>\n",
       "    <tr style=\"text-align: right;\">\n",
       "      <th></th>\n",
       "      <th>normal</th>\n",
       "      <th>simplified</th>\n",
       "    </tr>\n",
       "  </thead>\n",
       "  <tbody>\n",
       "    <tr>\n",
       "      <th>0</th>\n",
       "      <td>You're My Best Friend/'39 è un singolo del gru...</td>\n",
       "      <td>'39 è un brano dei Queen cantato da Brian May....</td>\n",
       "    </tr>\n",
       "    <tr>\n",
       "      <th>1</th>\n",
       "      <td>Água Boa è un comune del Brasile nello Stato d...</td>\n",
       "      <td>Água Boa è un comune di 18.994 abitanti (2007)...</td>\n",
       "    </tr>\n",
       "    <tr>\n",
       "      <th>2</th>\n",
       "      <td>Åmli è un comune norvegese della contea di Agder.</td>\n",
       "      <td>Åmli è un comune della Norvegia, appartiene al...</td>\n",
       "    </tr>\n",
       "    <tr>\n",
       "      <th>3</th>\n",
       "      <td>Ébreuil è un comune francese di 1.284 abitanti...</td>\n",
       "      <td>Ébreuil è un comune francese situato nel dipar...</td>\n",
       "    </tr>\n",
       "    <tr>\n",
       "      <th>4</th>\n",
       "      <td>Échallon è un comune francese di 804 abitanti ...</td>\n",
       "      <td>Échallon è un comune francese situato nel dipa...</td>\n",
       "    </tr>\n",
       "    <tr>\n",
       "      <th>...</th>\n",
       "      <td>...</td>\n",
       "      <td>...</td>\n",
       "    </tr>\n",
       "    <tr>\n",
       "      <th>8020</th>\n",
       "      <td>Zumaia (AFI: [s̻umaja] ) è un comune spagnolo ...</td>\n",
       "      <td>Zumaia è un comune della Spagna, appartiene al...</td>\n",
       "    </tr>\n",
       "    <tr>\n",
       "      <th>8021</th>\n",
       "      <td>Zungri (AFI: /ˈʣunɡri/; Zzungàri in calabrese)...</td>\n",
       "      <td>Zungri è un comune dell'Italia. La popolazione...</td>\n",
       "    </tr>\n",
       "    <tr>\n",
       "      <th>8022</th>\n",
       "      <td>Zurigo (/ʣuˈrigo/; in tedesco Zürich, pronunci...</td>\n",
       "      <td>Zurigo è una città della Svizzera, capoluogo d...</td>\n",
       "    </tr>\n",
       "    <tr>\n",
       "      <th>8023</th>\n",
       "      <td>Zvečan (in albanese Zveçani; in serbo Звечан, ...</td>\n",
       "      <td>Zvecan (in albanese Zveçani e in serbo Звечан)...</td>\n",
       "    </tr>\n",
       "    <tr>\n",
       "      <th>8024</th>\n",
       "      <td>Zwedru è una città della Liberia, capoluogo de...</td>\n",
       "      <td>Zwedru è una città della Liberia. Si trova nel...</td>\n",
       "    </tr>\n",
       "  </tbody>\n",
       "</table>\n",
       "<p>8025 rows × 2 columns</p>\n",
       "</div>"
      ],
      "text/plain": [
       "                                                 normal  \\\n",
       "0     You're My Best Friend/'39 è un singolo del gru...   \n",
       "1     Água Boa è un comune del Brasile nello Stato d...   \n",
       "2     Åmli è un comune norvegese della contea di Agder.   \n",
       "3     Ébreuil è un comune francese di 1.284 abitanti...   \n",
       "4     Échallon è un comune francese di 804 abitanti ...   \n",
       "...                                                 ...   \n",
       "8020  Zumaia (AFI: [s̻umaja] ) è un comune spagnolo ...   \n",
       "8021  Zungri (AFI: /ˈʣunɡri/; Zzungàri in calabrese)...   \n",
       "8022  Zurigo (/ʣuˈrigo/; in tedesco Zürich, pronunci...   \n",
       "8023  Zvečan (in albanese Zveçani; in serbo Звечан, ...   \n",
       "8024  Zwedru è una città della Liberia, capoluogo de...   \n",
       "\n",
       "                                             simplified  \n",
       "0     '39 è un brano dei Queen cantato da Brian May....  \n",
       "1     Água Boa è un comune di 18.994 abitanti (2007)...  \n",
       "2     Åmli è un comune della Norvegia, appartiene al...  \n",
       "3     Ébreuil è un comune francese situato nel dipar...  \n",
       "4     Échallon è un comune francese situato nel dipa...  \n",
       "...                                                 ...  \n",
       "8020  Zumaia è un comune della Spagna, appartiene al...  \n",
       "8021  Zungri è un comune dell'Italia. La popolazione...  \n",
       "8022  Zurigo è una città della Svizzera, capoluogo d...  \n",
       "8023  Zvecan (in albanese Zveçani e in serbo Звечан)...  \n",
       "8024  Zwedru è una città della Liberia. Si trova nel...  \n",
       "\n",
       "[8025 rows x 2 columns]"
      ]
     },
     "execution_count": 10,
     "metadata": {},
     "output_type": "execute_result"
    }
   ],
   "source": [
    "dataset_build = pd.DataFrame({\"normal\": wiki_files, \"simplified\": simple_files})\n",
    "dataset_build"
   ]
  },
  {
   "cell_type": "code",
   "execution_count": 11,
   "metadata": {},
   "outputs": [],
   "source": [
    "os.chdir(\"../../../final_code/dataset/general\")"
   ]
  },
  {
   "cell_type": "code",
   "execution_count": 12,
   "metadata": {},
   "outputs": [],
   "source": [
    "dataset_build.dropna(inplace=True)"
   ]
  },
  {
   "cell_type": "code",
   "execution_count": 52,
   "metadata": {},
   "outputs": [],
   "source": [
    "if dataset_build['normal'].str.contains('¶').any() or dataset_build['simplified'].str.contains('¶').any() :\n",
    "    print (\"Mel is there\")"
   ]
  },
  {
   "cell_type": "code",
   "execution_count": 59,
   "metadata": {},
   "outputs": [],
   "source": [
    "dataset_build.to_csv(\"candidate_full_80.csv\", sep=\"¶\", header=True)"
   ]
  },
  {
   "cell_type": "code",
   "execution_count": 13,
   "metadata": {},
   "outputs": [
    {
     "data": {
      "text/plain": [
       "'Ges%C3%B9.html\\n'"
      ]
     },
     "execution_count": 13,
     "metadata": {},
     "output_type": "execute_result"
    }
   ],
   "source": [
    "#3058\n",
    "#5191\n",
    "# o 2008 0 ordini religiosi o Ges%C3%...\n",
    "list_files_check[3058]"
   ]
  },
  {
   "cell_type": "code",
   "execution_count": 61,
   "metadata": {},
   "outputs": [],
   "source": [
    "dataset = pd.read_csv(\"candidate_full_80.csv\", sep=\"¶\", engine='python')"
   ]
  }
 ],
 "metadata": {
  "kernelspec": {
   "display_name": "Python 3",
   "language": "python",
   "name": "python3"
  },
  "language_info": {
   "codemirror_mode": {
    "name": "ipython",
    "version": 3
   },
   "file_extension": ".py",
   "mimetype": "text/x-python",
   "name": "python",
   "nbconvert_exporter": "python",
   "pygments_lexer": "ipython3",
   "version": "3.12.0"
  }
 },
 "nbformat": 4,
 "nbformat_minor": 2
}
