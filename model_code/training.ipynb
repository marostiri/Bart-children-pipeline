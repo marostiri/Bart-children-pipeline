{
 "cells": [
  {
   "cell_type": "code",
   "execution_count": null,
   "id": "a32e4a25",
   "metadata": {},
   "outputs": [],
   "source": [
    "!pip install torch\n",
    "!pip install transformers\n",
    "!pip install pandas\n",
    "!pip install datasets\n",
    "!pip install peft\n",
    "!pip install scikit-learn\n",
    "!pip install evaluate\n",
    "!pip install textstat\n",
    "!pip install numpy\n",
    "!pip install sacrebleu sacremoses\n",
    "!pip install bert_score"
   ]
  },
  {
   "cell_type": "code",
   "execution_count": 2,
   "id": "70b4e35b-66e6-4bd8-851b-d5b813e96897",
   "metadata": {},
   "outputs": [],
   "source": [
    "import os\n",
    "import torch\n",
    "from transformers import AutoTokenizer, AutoModelForSeq2SeqLM, Seq2SeqTrainingArguments, Seq2SeqTrainer, set_seed\n",
    "import pandas as pd\n",
    "from datasets import Dataset\n",
    "from peft import LoraConfig, get_peft_model\n",
    "from sklearn.model_selection import train_test_split\n",
    "import evaluate\n",
    "import textstat\n",
    "import numpy as np\n",
    "from torch.utils.data import DataLoader\n"
   ]
  },
  {
   "cell_type": "code",
   "execution_count": 4,
   "id": "328ba07c-07a3-4f1c-939a-59703f5375bb",
   "metadata": {},
   "outputs": [],
   "source": [
    "set_seed(42)"
   ]
  },
  {
   "cell_type": "code",
   "execution_count": 5,
   "id": "70e36e41-b318-4ad4-9a33-0e7803fd52a0",
   "metadata": {},
   "outputs": [
    {
     "name": "stdout",
     "output_type": "stream",
     "text": [
      "cuda\n"
     ]
    }
   ],
   "source": [
    "device = torch.device(\"cuda\" if torch.cuda.is_available() else \"cpu\")\n",
    "print(device)"
   ]
  },
  {
   "cell_type": "code",
   "execution_count": null,
   "id": "a3103af8",
   "metadata": {},
   "outputs": [],
   "source": [
    "MAX_LENGTH = 1024\n",
    "NAME_MODEL = \"LORA_TRY_60_4\"\n",
    "N_BEAM = 4\n",
    "NAME_RUN = \"\"\n",
    "NUM_EPOCHS = 10\n",
    "# Path directly to dataset in 'data/Final'\n",
    "PATH_DATASET = \"/kaggle/input/test-paper-aied/candidate_full_80.csv\"\n",
    "# Path in folder 'model'\n",
    "PATH_OUTPUT = \"\""
   ]
  },
  {
   "cell_type": "code",
   "execution_count": null,
   "id": "40809250-a0d8-4230-af92-872c372cf0dc",
   "metadata": {},
   "outputs": [],
   "source": [
    "dataset = pd.read_csv(PATH_DATASET, sep=\"¶\", engine='python')"
   ]
  },
  {
   "cell_type": "code",
   "execution_count": 7,
   "id": "a6490410-10f7-4f29-bef1-74326c4bc818",
   "metadata": {},
   "outputs": [],
   "source": [
    "dataset = dataset[[\"normal\", \"simplified\"]]"
   ]
  },
  {
   "cell_type": "code",
   "execution_count": 8,
   "id": "9dfc866e-fdd1-44e1-9482-27333e55e1b0",
   "metadata": {},
   "outputs": [],
   "source": [
    "dataset.dropna(inplace=True)"
   ]
  },
  {
   "cell_type": "code",
   "execution_count": 9,
   "id": "55c16dab-3bbd-4db4-ad39-ead7ab539d3e",
   "metadata": {},
   "outputs": [],
   "source": [
    "dataset_shuffled = dataset.sample(frac=1, random_state=42)"
   ]
  },
  {
   "cell_type": "code",
   "execution_count": 10,
   "id": "f52a457b-0669-44e2-acf5-a70685ab7ab7",
   "metadata": {},
   "outputs": [],
   "source": [
    "dataset_shuffled.reset_index(drop=True, inplace = True)"
   ]
  },
  {
   "cell_type": "code",
   "execution_count": 11,
   "id": "dc0222a2-c5c8-4c26-b88a-7a8acbb23a20",
   "metadata": {},
   "outputs": [
    {
     "data": {
      "text/html": [
       "<div>\n",
       "<style scoped>\n",
       "    .dataframe tbody tr th:only-of-type {\n",
       "        vertical-align: middle;\n",
       "    }\n",
       "\n",
       "    .dataframe tbody tr th {\n",
       "        vertical-align: top;\n",
       "    }\n",
       "\n",
       "    .dataframe thead th {\n",
       "        text-align: right;\n",
       "    }\n",
       "</style>\n",
       "<table border=\"1\" class=\"dataframe\">\n",
       "  <thead>\n",
       "    <tr style=\"text-align: right;\">\n",
       "      <th></th>\n",
       "      <th>normal</th>\n",
       "      <th>simplified</th>\n",
       "    </tr>\n",
       "  </thead>\n",
       "  <tbody>\n",
       "    <tr>\n",
       "      <th>0</th>\n",
       "      <td>Ares nella religione greca è il figlio di Zeus...</td>\n",
       "      <td>Ares  era identificato come il dio della guerr...</td>\n",
       "    </tr>\n",
       "    <tr>\n",
       "      <th>1</th>\n",
       "      <td>La bella e la bestia (titolo francese: La bell...</td>\n",
       "      <td>La bella e la bestia è una fiaba scritta da Je...</td>\n",
       "    </tr>\n",
       "    <tr>\n",
       "      <th>2</th>\n",
       "      <td>Ginger Baker, pseudonimo di Peter Edward Baker...</td>\n",
       "      <td>Ginger Baker è stato uno dei batteristi fondam...</td>\n",
       "    </tr>\n",
       "    <tr>\n",
       "      <th>3</th>\n",
       "      <td>Teissières-de-Cornet è un comune francese di 2...</td>\n",
       "      <td>Teissières-de-Cornet è un comune francese situ...</td>\n",
       "    </tr>\n",
       "    <tr>\n",
       "      <th>4</th>\n",
       "      <td>William Howard Taft (Cincinnati, 15 settembre ...</td>\n",
       "      <td>William Howard Taft è stato un politico statun...</td>\n",
       "    </tr>\n",
       "    <tr>\n",
       "      <th>...</th>\n",
       "      <td>...</td>\n",
       "      <td>...</td>\n",
       "    </tr>\n",
       "    <tr>\n",
       "      <th>8006</th>\n",
       "      <td>Ouricuri è un comune del Brasile nello Stato d...</td>\n",
       "      <td>Ouricuri è un comune appartente allo stato del...</td>\n",
       "    </tr>\n",
       "    <tr>\n",
       "      <th>8007</th>\n",
       "      <td>La pasta (in ambito tecnico definita come past...</td>\n",
       "      <td>La pasta è un cibo. È fatta di farina, uovo, a...</td>\n",
       "    </tr>\n",
       "    <tr>\n",
       "      <th>8008</th>\n",
       "      <td>Benjamin Franklin (Boston, 17 gennaio 1706 - F...</td>\n",
       "      <td>Benjamin Franklin fu uno scienziato e politico...</td>\n",
       "    </tr>\n",
       "    <tr>\n",
       "      <th>8009</th>\n",
       "      <td>Vetto (Vèt in dialetto reggiano) è un comune i...</td>\n",
       "      <td>Vetto è un comune dell'Italia. Appartiene alla...</td>\n",
       "    </tr>\n",
       "    <tr>\n",
       "      <th>8010</th>\n",
       "      <td>Trenton è una piccola città nella contea di Wa...</td>\n",
       "      <td>Trenton è un comune dello stato del Michigan n...</td>\n",
       "    </tr>\n",
       "  </tbody>\n",
       "</table>\n",
       "<p>8011 rows × 2 columns</p>\n",
       "</div>"
      ],
      "text/plain": [
       "                                                 normal  \\\n",
       "0     Ares nella religione greca è il figlio di Zeus...   \n",
       "1     La bella e la bestia (titolo francese: La bell...   \n",
       "2     Ginger Baker, pseudonimo di Peter Edward Baker...   \n",
       "3     Teissières-de-Cornet è un comune francese di 2...   \n",
       "4     William Howard Taft (Cincinnati, 15 settembre ...   \n",
       "...                                                 ...   \n",
       "8006  Ouricuri è un comune del Brasile nello Stato d...   \n",
       "8007  La pasta (in ambito tecnico definita come past...   \n",
       "8008  Benjamin Franklin (Boston, 17 gennaio 1706 - F...   \n",
       "8009  Vetto (Vèt in dialetto reggiano) è un comune i...   \n",
       "8010  Trenton è una piccola città nella contea di Wa...   \n",
       "\n",
       "                                             simplified  \n",
       "0     Ares  era identificato come il dio della guerr...  \n",
       "1     La bella e la bestia è una fiaba scritta da Je...  \n",
       "2     Ginger Baker è stato uno dei batteristi fondam...  \n",
       "3     Teissières-de-Cornet è un comune francese situ...  \n",
       "4     William Howard Taft è stato un politico statun...  \n",
       "...                                                 ...  \n",
       "8006  Ouricuri è un comune appartente allo stato del...  \n",
       "8007  La pasta è un cibo. È fatta di farina, uovo, a...  \n",
       "8008  Benjamin Franklin fu uno scienziato e politico...  \n",
       "8009  Vetto è un comune dell'Italia. Appartiene alla...  \n",
       "8010  Trenton è un comune dello stato del Michigan n...  \n",
       "\n",
       "[8011 rows x 2 columns]"
      ]
     },
     "execution_count": 11,
     "metadata": {},
     "output_type": "execute_result"
    }
   ],
   "source": [
    "dataset_shuffled"
   ]
  },
  {
   "cell_type": "code",
   "execution_count": null,
   "id": "f7b8eff3-e187-45d4-9b7a-05514505a2c4",
   "metadata": {},
   "outputs": [],
   "source": [
    "tokenizer = AutoTokenizer.from_pretrained(\"morenolq/bart-it\")\n"
   ]
  },
  {
   "cell_type": "code",
   "execution_count": null,
   "id": "dc37f77d-6e28-4c55-ab13-e54e37915758",
   "metadata": {},
   "outputs": [],
   "source": [
    "def filter_by_token_length(row):\n",
    "    # Column tokenization \n",
    "    normal_tokens = tokenizer(row['normal'], truncation=False, return_tensors=\"pt\")\n",
    "    simplified_tokens = tokenizer(row['simplified'], truncation=False, return_tensors=\"pt\")\n",
    "    # Check sequence do not exceed limit\n",
    "    \n",
    "    return len(normal_tokens.input_ids[0]) <= MAX_LENGTH and len(simplified_tokens.input_ids[0]) <= MAX_LENGTH\n",
    "\n",
    "# Apply function to dataframe and filter rows\n",
    "df_filtered_by_token_length = dataset_shuffled[dataset_shuffled.apply(filter_by_token_length, axis=1)]"
   ]
  },
  {
   "cell_type": "code",
   "execution_count": 15,
   "id": "4db6fe1d-7713-4def-8e9e-50584ffe2cf6",
   "metadata": {},
   "outputs": [],
   "source": [
    "df_filtered_by_token_length.reset_index(drop=True, inplace = True)"
   ]
  },
  {
   "cell_type": "code",
   "execution_count": 16,
   "id": "46f5a4b8-ab3d-4993-89f7-780875f46999",
   "metadata": {},
   "outputs": [
    {
     "data": {
      "text/html": [
       "<div>\n",
       "<style scoped>\n",
       "    .dataframe tbody tr th:only-of-type {\n",
       "        vertical-align: middle;\n",
       "    }\n",
       "\n",
       "    .dataframe tbody tr th {\n",
       "        vertical-align: top;\n",
       "    }\n",
       "\n",
       "    .dataframe thead th {\n",
       "        text-align: right;\n",
       "    }\n",
       "</style>\n",
       "<table border=\"1\" class=\"dataframe\">\n",
       "  <thead>\n",
       "    <tr style=\"text-align: right;\">\n",
       "      <th></th>\n",
       "      <th>normal</th>\n",
       "      <th>simplified</th>\n",
       "    </tr>\n",
       "  </thead>\n",
       "  <tbody>\n",
       "    <tr>\n",
       "      <th>0</th>\n",
       "      <td>Ares nella religione greca è il figlio di Zeus...</td>\n",
       "      <td>Ares  era identificato come il dio della guerr...</td>\n",
       "    </tr>\n",
       "    <tr>\n",
       "      <th>1</th>\n",
       "      <td>La bella e la bestia (titolo francese: La bell...</td>\n",
       "      <td>La bella e la bestia è una fiaba scritta da Je...</td>\n",
       "    </tr>\n",
       "    <tr>\n",
       "      <th>2</th>\n",
       "      <td>Ginger Baker, pseudonimo di Peter Edward Baker...</td>\n",
       "      <td>Ginger Baker è stato uno dei batteristi fondam...</td>\n",
       "    </tr>\n",
       "    <tr>\n",
       "      <th>3</th>\n",
       "      <td>Teissières-de-Cornet è un comune francese di 2...</td>\n",
       "      <td>Teissières-de-Cornet è un comune francese situ...</td>\n",
       "    </tr>\n",
       "    <tr>\n",
       "      <th>4</th>\n",
       "      <td>William Howard Taft (Cincinnati, 15 settembre ...</td>\n",
       "      <td>William Howard Taft è stato un politico statun...</td>\n",
       "    </tr>\n",
       "    <tr>\n",
       "      <th>...</th>\n",
       "      <td>...</td>\n",
       "      <td>...</td>\n",
       "    </tr>\n",
       "    <tr>\n",
       "      <th>7961</th>\n",
       "      <td>Ouricuri è un comune del Brasile nello Stato d...</td>\n",
       "      <td>Ouricuri è un comune appartente allo stato del...</td>\n",
       "    </tr>\n",
       "    <tr>\n",
       "      <th>7962</th>\n",
       "      <td>La pasta (in ambito tecnico definita come past...</td>\n",
       "      <td>La pasta è un cibo. È fatta di farina, uovo, a...</td>\n",
       "    </tr>\n",
       "    <tr>\n",
       "      <th>7963</th>\n",
       "      <td>Benjamin Franklin (Boston, 17 gennaio 1706 - F...</td>\n",
       "      <td>Benjamin Franklin fu uno scienziato e politico...</td>\n",
       "    </tr>\n",
       "    <tr>\n",
       "      <th>7964</th>\n",
       "      <td>Vetto (Vèt in dialetto reggiano) è un comune i...</td>\n",
       "      <td>Vetto è un comune dell'Italia. Appartiene alla...</td>\n",
       "    </tr>\n",
       "    <tr>\n",
       "      <th>7965</th>\n",
       "      <td>Trenton è una piccola città nella contea di Wa...</td>\n",
       "      <td>Trenton è un comune dello stato del Michigan n...</td>\n",
       "    </tr>\n",
       "  </tbody>\n",
       "</table>\n",
       "<p>7966 rows × 2 columns</p>\n",
       "</div>"
      ],
      "text/plain": [
       "                                                 normal  \\\n",
       "0     Ares nella religione greca è il figlio di Zeus...   \n",
       "1     La bella e la bestia (titolo francese: La bell...   \n",
       "2     Ginger Baker, pseudonimo di Peter Edward Baker...   \n",
       "3     Teissières-de-Cornet è un comune francese di 2...   \n",
       "4     William Howard Taft (Cincinnati, 15 settembre ...   \n",
       "...                                                 ...   \n",
       "7961  Ouricuri è un comune del Brasile nello Stato d...   \n",
       "7962  La pasta (in ambito tecnico definita come past...   \n",
       "7963  Benjamin Franklin (Boston, 17 gennaio 1706 - F...   \n",
       "7964  Vetto (Vèt in dialetto reggiano) è un comune i...   \n",
       "7965  Trenton è una piccola città nella contea di Wa...   \n",
       "\n",
       "                                             simplified  \n",
       "0     Ares  era identificato come il dio della guerr...  \n",
       "1     La bella e la bestia è una fiaba scritta da Je...  \n",
       "2     Ginger Baker è stato uno dei batteristi fondam...  \n",
       "3     Teissières-de-Cornet è un comune francese situ...  \n",
       "4     William Howard Taft è stato un politico statun...  \n",
       "...                                                 ...  \n",
       "7961  Ouricuri è un comune appartente allo stato del...  \n",
       "7962  La pasta è un cibo. È fatta di farina, uovo, a...  \n",
       "7963  Benjamin Franklin fu uno scienziato e politico...  \n",
       "7964  Vetto è un comune dell'Italia. Appartiene alla...  \n",
       "7965  Trenton è un comune dello stato del Michigan n...  \n",
       "\n",
       "[7966 rows x 2 columns]"
      ]
     },
     "execution_count": 16,
     "metadata": {},
     "output_type": "execute_result"
    }
   ],
   "source": [
    "df_filtered_by_token_length"
   ]
  },
  {
   "cell_type": "code",
   "execution_count": 17,
   "id": "a33c367d-5b0a-40eb-9ef4-20d0da0de984",
   "metadata": {},
   "outputs": [],
   "source": [
    "X_train, X_test, y_train, y_test = train_test_split(df_filtered_by_token_length[\"normal\"],\n",
    "                 df_filtered_by_token_length[\"simplified\"],\n",
    "                 test_size=0.2,\n",
    "                 random_state = 42)"
   ]
  },
  {
   "cell_type": "code",
   "execution_count": 18,
   "id": "7cd84b35-b488-432f-a5c6-56e410c0383b",
   "metadata": {},
   "outputs": [],
   "source": [
    "X_train, X_eval, y_train, y_eval = train_test_split(X_train,\n",
    "                 y_train,\n",
    "                 test_size=0.2,\n",
    "                 random_state = 42)"
   ]
  },
  {
   "cell_type": "code",
   "execution_count": 19,
   "id": "09d4cd4c-b866-45a7-9d83-69b7e9cce44d",
   "metadata": {},
   "outputs": [],
   "source": [
    "train_dataset = pd.concat([X_train, y_train], axis=1).reset_index(drop=True)\n",
    "eval_dataset = pd.concat([X_eval, y_eval], axis=1).reset_index(drop=True)\n",
    "test_dataset = pd.concat([X_test, y_test], axis=1).reset_index(drop=True)"
   ]
  },
  {
   "cell_type": "code",
   "execution_count": 20,
   "id": "01dacb89-c8d9-4df3-ade0-87afe12d1c79",
   "metadata": {},
   "outputs": [],
   "source": [
    "hf_dataset_train = Dataset.from_pandas(train_dataset)\n",
    "hf_dataset_eval = Dataset.from_pandas(eval_dataset)"
   ]
  },
  {
   "cell_type": "code",
   "execution_count": null,
   "id": "bd4dd9c7-7208-4f71-9fcc-ab8be396a854",
   "metadata": {},
   "outputs": [],
   "source": [
    "model = AutoModelForSeq2SeqLM.from_pretrained(\"morenolq/bart-it\").to(device)"
   ]
  },
  {
   "cell_type": "code",
   "execution_count": 22,
   "id": "61cd1148-35cb-4f48-84f7-23135193dd12",
   "metadata": {},
   "outputs": [],
   "source": [
    "def preprocess_function(examples):\n",
    "    inputs = examples['normal']\n",
    "    targets = examples['simplified']\n",
    "    model_inputs = tokenizer(inputs, max_length=MAX_LENGTH, padding=\"max_length\", truncation=True, return_tensors=\"pt\").to(device)\n",
    "    with tokenizer.as_target_tokenizer():\n",
    "        labels = tokenizer(targets, max_length=MAX_LENGTH, padding=\"max_length\", truncation=True, return_tensors=\"pt\").to(device)\n",
    "\n",
    "    model_inputs['labels'] = labels['input_ids']\n",
    "    return model_inputs"
   ]
  },
  {
   "cell_type": "code",
   "execution_count": 23,
   "id": "3668d580-e0a1-4918-9b1c-965d17840893",
   "metadata": {},
   "outputs": [
    {
     "data": {
      "application/vnd.jupyter.widget-view+json": {
       "model_id": "eaffe555706f4b66aa6257e1c8b0251f",
       "version_major": 2,
       "version_minor": 0
      },
      "text/plain": [
       "Map:   0%|          | 0/5097 [00:00<?, ? examples/s]"
      ]
     },
     "metadata": {},
     "output_type": "display_data"
    },
    {
     "name": "stderr",
     "output_type": "stream",
     "text": [
      "/home/ubuntu/.local/lib/python3.10/site-packages/transformers/tokenization_utils_base.py:4126: UserWarning: `as_target_tokenizer` is deprecated and will be removed in v5 of Transformers. You can tokenize your labels by using the argument `text_target` of the regular `__call__` method (either in the same call as your input texts if you use the same keyword arguments, or in a separate call.\n",
      "  warnings.warn(\n"
     ]
    },
    {
     "data": {
      "application/vnd.jupyter.widget-view+json": {
       "model_id": "7491f6606e364f80a12f99f6901f542d",
       "version_major": 2,
       "version_minor": 0
      },
      "text/plain": [
       "Map:   0%|          | 0/1275 [00:00<?, ? examples/s]"
      ]
     },
     "metadata": {},
     "output_type": "display_data"
    }
   ],
   "source": [
    "tokenized_datasets_train = hf_dataset_train.map(preprocess_function, batched=True)\n",
    "tokenized_datasets_eval = hf_dataset_eval.map(preprocess_function, batched=True)"
   ]
  },
  {
   "cell_type": "code",
   "execution_count": null,
   "id": "6e614cd9-bad3-4f2c-874a-02ddc433f7d3",
   "metadata": {},
   "outputs": [],
   "source": [
    "config = LoraConfig(\n",
    "    r=8,         # Rank\n",
    "    lora_alpha=16,    # Alpha\n",
    "    target_modules=[\"q_proj\", \"v_proj\", \"k_proj\"],  \n",
    "    bias=\"none\",  \n",
    "    lora_dropout=0.05,\n",
    "    task_type=\"SEQ_2_SEQ_LM\"\n",
    ")"
   ]
  },
  {
   "cell_type": "code",
   "execution_count": 25,
   "id": "970bee13-1313-4343-8b7c-051d4a755896",
   "metadata": {},
   "outputs": [],
   "source": [
    "bleu = evaluate.load(\"bleu\")\n",
    "sari = evaluate.load(\"sari\")"
   ]
  },
  {
   "cell_type": "code",
   "execution_count": null,
   "id": "9566d6f5-cafe-4cb9-b7db-d72c4c57413f",
   "metadata": {},
   "outputs": [],
   "source": [
    "def compute_metrics(pred):\n",
    "    \n",
    "    textstat.set_lang(\"it\")\n",
    "    \n",
    "    labels_ids = pred.label_ids\n",
    "    pred_ids = pred.predictions\n",
    "    input_ids = pred.inputs\n",
    "    \n",
    "    pred_ids = np.where(pred_ids != -100, pred_ids, tokenizer.pad_token_id)\n",
    "    labels_ids = np.where(labels_ids != -100, labels_ids, tokenizer.pad_token_id)\n",
    "    input_ids = np.where(input_ids != -100, input_ids, tokenizer.pad_token_id)\n",
    "    \n",
    "    pred_str = tokenizer.batch_decode(pred_ids, skip_special_tokens=True)\n",
    "    label_str = tokenizer.batch_decode(labels_ids, skip_special_tokens=True)\n",
    "    input_str = tokenizer.batch_decode(input_ids, skip_special_tokens=True)\n",
    "    \n",
    "    results = bleu.compute(predictions=pred_str, references=label_str)\n",
    "        \n",
    "    flesch_reading_ease = sum(textstat.flesch_reading_ease(sent) for sent in pred_str) / len(pred_str)\n",
    "    \n",
    "    ref_arr = [[sent] for sent in label_str]\n",
    "    \n",
    "    sari_score = sari.compute(sources=input_str, predictions=pred_str, references=ref_arr)\n",
    "\n",
    "    \n",
    "    return {\n",
    "        'bleu': results['bleu'],\n",
    "        'flesch_reading': flesch_reading_ease,\n",
    "        'sari': sari_score[\"sari\"]\n",
    "    }"
   ]
  },
  {
   "cell_type": "code",
   "execution_count": 27,
   "id": "22b0899d-1a30-46e5-9835-08a00aeebef4",
   "metadata": {},
   "outputs": [],
   "source": [
    "model_lora = get_peft_model(model, config)"
   ]
  },
  {
   "cell_type": "code",
   "execution_count": 28,
   "id": "05de190f-55bb-4ab2-a120-182de4e7060d",
   "metadata": {},
   "outputs": [
    {
     "data": {
      "text/plain": [
       "663552"
      ]
     },
     "execution_count": 28,
     "metadata": {},
     "output_type": "execute_result"
    }
   ],
   "source": [
    "model_lora.num_parameters(only_trainable=True)"
   ]
  },
  {
   "cell_type": "code",
   "execution_count": null,
   "id": "b8aa917d-7b61-4740-922c-688f3544e081",
   "metadata": {},
   "outputs": [],
   "source": [
    "training_args = Seq2SeqTrainingArguments(\n",
    "    run_name=NAME_RUN,\n",
    "    overwrite_output_dir=True,\n",
    "    output_dir=PATH_OUTPUT,#\n",
    "    eval_strategy=\"epoch\", #\n",
    "    save_strategy=\"epoch\",#\n",
    "    learning_rate=2e-5, #\n",
    "    num_train_epochs=NUM_EPOCHS, #\n",
    "    per_device_train_batch_size=32,#\n",
    "    weight_decay=0.01, #\n",
    "    predict_with_generate=True, \n",
    "    generation_num_beams = N_BEAM,\n",
    "    generation_max_length = MAX_LENGTH,\n",
    "    save_total_limit = 1, #\n",
    "    load_best_model_at_end=True, #\n",
    "    include_inputs_for_metrics = True,\n",
    "    metric_for_best_model=\"sari\",\n",
    "    logging_strategy=\"epoch\"\n",
    ")\n",
    "                         \n",
    "trainer = Seq2SeqTrainer(\n",
    "    model=model_lora,\n",
    "    args=training_args,\n",
    "    train_dataset=tokenized_datasets_train,\n",
    "    eval_dataset=tokenized_datasets_eval,\n",
    "    compute_metrics=compute_metrics,\n",
    "    tokenizer=tokenizer,\n",
    ")"
   ]
  },
  {
   "cell_type": "code",
   "execution_count": null,
   "id": "dd563805-61f8-43f1-aaa7-6a2a19a0e431",
   "metadata": {},
   "outputs": [],
   "source": [
    "trainer.train()"
   ]
  },
  {
   "cell_type": "code",
   "execution_count": null,
   "id": "10d52999-384b-44ba-b25d-914d50647bac",
   "metadata": {},
   "outputs": [],
   "source": [
    "trainer.save_model(NAME_MODEL)"
   ]
  }
 ],
 "metadata": {
  "kernelspec": {
   "display_name": "Python 3 (ipykernel)",
   "language": "python",
   "name": "python3"
  },
  "language_info": {
   "codemirror_mode": {
    "name": "ipython",
    "version": 3
   },
   "file_extension": ".py",
   "mimetype": "text/x-python",
   "name": "python",
   "nbconvert_exporter": "python",
   "pygments_lexer": "ipython3",
   "version": "3.10.12"
  }
 },
 "nbformat": 4,
 "nbformat_minor": 5
}
