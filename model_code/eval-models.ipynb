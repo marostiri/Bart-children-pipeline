{
 "cells": [
  {
   "cell_type": "code",
   "execution_count": null,
   "id": "7ab90a8f-cbd3-4675-80bb-c9cccc5164a5",
   "metadata": {
    "execution": {
     "iopub.execute_input": "2025-03-11T00:32:28.836413Z",
     "iopub.status.busy": "2025-03-11T00:32:28.835969Z",
     "iopub.status.idle": "2025-03-11T00:33:10.458982Z",
     "shell.execute_reply": "2025-03-11T00:33:10.458165Z",
     "shell.execute_reply.started": "2025-03-11T00:32:28.836366Z"
    },
    "trusted": true
   },
   "outputs": [],
   "source": [
    "!pip install torch\n",
    "!pip install transformers\n",
    "!pip install pandas\n",
    "!pip install Dataset\n",
    "!pip install peft\n",
    "!pip install scikit-learn\n",
    "!pip install evaluate\n",
    "!pip install textstat\n",
    "!pip install numpy\n",
    "!pip install sacrebleu sacremoses\n",
    "!pip install bert_score"
   ]
  },
  {
   "cell_type": "code",
   "execution_count": null,
   "id": "70b4e35b-66e6-4bd8-851b-d5b813e96897",
   "metadata": {
    "execution": {
     "iopub.execute_input": "2025-03-11T00:33:10.460780Z",
     "iopub.status.busy": "2025-03-11T00:33:10.460454Z",
     "iopub.status.idle": "2025-03-11T00:33:34.242135Z",
     "shell.execute_reply": "2025-03-11T00:33:34.241187Z",
     "shell.execute_reply.started": "2025-03-11T00:33:10.460749Z"
    },
    "trusted": true
   },
   "outputs": [],
   "source": [
    "import os\n",
    "import torch\n",
    "from transformers import AutoTokenizer, AutoModelForSeq2SeqLM, Seq2SeqTrainingArguments, Seq2SeqTrainer, set_seed\n",
    "import pandas as pd\n",
    "from datasets import Dataset\n",
    "from peft import LoraConfig, get_peft_model\n",
    "from sklearn.model_selection import train_test_split\n",
    "import evaluate\n",
    "import textstat\n",
    "import numpy as np\n",
    "from torch.utils.data import DataLoader\n"
   ]
  },
  {
   "cell_type": "code",
   "execution_count": null,
   "id": "7f96c765-7a5b-4223-9dfd-fdf8f4ca7240",
   "metadata": {
    "execution": {
     "iopub.execute_input": "2025-03-11T00:33:34.244132Z",
     "iopub.status.busy": "2025-03-11T00:33:34.243512Z",
     "iopub.status.idle": "2025-03-11T00:33:34.248016Z",
     "shell.execute_reply": "2025-03-11T00:33:34.247108Z",
     "shell.execute_reply.started": "2025-03-11T00:33:34.244076Z"
    },
    "trusted": true
   },
   "outputs": [],
   "source": [
    "#os.environ[\"CUDA_VISIBLE_DEVICES\"]=\"0,1\"\n",
    "#os.environ[\"WANDB_DISABLED\"] = \"true\""
   ]
  },
  {
   "cell_type": "code",
   "execution_count": null,
   "id": "493e5ee5-0661-403e-8993-c019e122fbc8",
   "metadata": {
    "execution": {
     "iopub.execute_input": "2025-03-11T00:33:34.249734Z",
     "iopub.status.busy": "2025-03-11T00:33:34.249428Z",
     "iopub.status.idle": "2025-03-11T00:33:34.326911Z",
     "shell.execute_reply": "2025-03-11T00:33:34.326319Z",
     "shell.execute_reply.started": "2025-03-11T00:33:34.249707Z"
    },
    "trusted": true
   },
   "outputs": [],
   "source": [
    "torch.manual_seed(42)"
   ]
  },
  {
   "cell_type": "code",
   "execution_count": null,
   "id": "328ba07c-07a3-4f1c-939a-59703f5375bb",
   "metadata": {
    "execution": {
     "iopub.execute_input": "2025-03-11T00:33:34.327858Z",
     "iopub.status.busy": "2025-03-11T00:33:34.327658Z",
     "iopub.status.idle": "2025-03-11T00:33:34.333783Z",
     "shell.execute_reply": "2025-03-11T00:33:34.333131Z",
     "shell.execute_reply.started": "2025-03-11T00:33:34.327841Z"
    },
    "trusted": true
   },
   "outputs": [],
   "source": [
    "set_seed(42)"
   ]
  },
  {
   "cell_type": "code",
   "execution_count": null,
   "id": "ae697b7e-8af6-4dc3-99c7-0bca778a6521",
   "metadata": {
    "execution": {
     "iopub.execute_input": "2025-03-11T00:33:34.334864Z",
     "iopub.status.busy": "2025-03-11T00:33:34.334585Z",
     "iopub.status.idle": "2025-03-11T00:33:34.342397Z",
     "shell.execute_reply": "2025-03-11T00:33:34.341613Z",
     "shell.execute_reply.started": "2025-03-11T00:33:34.334835Z"
    },
    "trusted": true
   },
   "outputs": [],
   "source": [
    "MAX_LENGTH = 1024\n",
    "PATH_MODEL = \"/kaggle/input/lora_60/transformers/default/1/run_lora_60_1024/checkpoint-9600\"\n",
    "PATH_DATASET = \"/kaggle/input/test-paper-aied/candidate_full_80.csv\"\n",
    "NAME_MODEL = \"LORA_TRY_60_4\"\n",
    "N_BEAM = 4"
   ]
  },
  {
   "cell_type": "code",
   "execution_count": null,
   "id": "70e36e41-b318-4ad4-9a33-0e7803fd52a0",
   "metadata": {
    "execution": {
     "iopub.execute_input": "2025-03-11T00:33:34.343299Z",
     "iopub.status.busy": "2025-03-11T00:33:34.343065Z",
     "iopub.status.idle": "2025-03-11T00:33:34.431761Z",
     "shell.execute_reply": "2025-03-11T00:33:34.430841Z",
     "shell.execute_reply.started": "2025-03-11T00:33:34.343281Z"
    },
    "trusted": true
   },
   "outputs": [],
   "source": [
    "device = torch.device(\"cuda\" if torch.cuda.is_available() else \"cpu\")\n",
    "print(device)"
   ]
  },
  {
   "cell_type": "code",
   "execution_count": null,
   "id": "40809250-a0d8-4230-af92-872c372cf0dc",
   "metadata": {
    "execution": {
     "iopub.execute_input": "2025-03-11T00:33:34.434396Z",
     "iopub.status.busy": "2025-03-11T00:33:34.434119Z",
     "iopub.status.idle": "2025-03-11T00:33:34.609711Z",
     "shell.execute_reply": "2025-03-11T00:33:34.609101Z",
     "shell.execute_reply.started": "2025-03-11T00:33:34.434374Z"
    },
    "trusted": true
   },
   "outputs": [],
   "source": [
    "dataset = pd.read_csv(PATH_DATASET, sep=\"¶\", engine='python')"
   ]
  },
  {
   "cell_type": "code",
   "execution_count": null,
   "id": "a6490410-10f7-4f29-bef1-74326c4bc818",
   "metadata": {
    "execution": {
     "iopub.execute_input": "2025-03-11T00:33:34.611286Z",
     "iopub.status.busy": "2025-03-11T00:33:34.611071Z",
     "iopub.status.idle": "2025-03-11T00:33:34.624148Z",
     "shell.execute_reply": "2025-03-11T00:33:34.623481Z",
     "shell.execute_reply.started": "2025-03-11T00:33:34.611262Z"
    },
    "trusted": true
   },
   "outputs": [],
   "source": [
    "dataset = dataset[[\"normal\", \"simplified\"]]"
   ]
  },
  {
   "cell_type": "code",
   "execution_count": null,
   "id": "9dfc866e-fdd1-44e1-9482-27333e55e1b0",
   "metadata": {
    "execution": {
     "iopub.execute_input": "2025-03-11T00:33:34.625293Z",
     "iopub.status.busy": "2025-03-11T00:33:34.624975Z",
     "iopub.status.idle": "2025-03-11T00:33:34.638728Z",
     "shell.execute_reply": "2025-03-11T00:33:34.638125Z",
     "shell.execute_reply.started": "2025-03-11T00:33:34.625270Z"
    },
    "trusted": true
   },
   "outputs": [],
   "source": [
    "dataset.dropna(inplace=True)"
   ]
  },
  {
   "cell_type": "code",
   "execution_count": null,
   "id": "55c16dab-3bbd-4db4-ad39-ead7ab539d3e",
   "metadata": {
    "execution": {
     "iopub.execute_input": "2025-03-11T00:33:34.639837Z",
     "iopub.status.busy": "2025-03-11T00:33:34.639545Z",
     "iopub.status.idle": "2025-03-11T00:33:34.650460Z",
     "shell.execute_reply": "2025-03-11T00:33:34.649580Z",
     "shell.execute_reply.started": "2025-03-11T00:33:34.639789Z"
    },
    "trusted": true
   },
   "outputs": [],
   "source": [
    "dataset_shuffled = dataset.sample(frac=1, random_state=42)"
   ]
  },
  {
   "cell_type": "code",
   "execution_count": null,
   "id": "f52a457b-0669-44e2-acf5-a70685ab7ab7",
   "metadata": {
    "execution": {
     "iopub.execute_input": "2025-03-11T00:33:34.651472Z",
     "iopub.status.busy": "2025-03-11T00:33:34.651225Z",
     "iopub.status.idle": "2025-03-11T00:33:34.661742Z",
     "shell.execute_reply": "2025-03-11T00:33:34.661227Z",
     "shell.execute_reply.started": "2025-03-11T00:33:34.651439Z"
    },
    "trusted": true
   },
   "outputs": [],
   "source": [
    "dataset_shuffled.reset_index(drop=True, inplace = True)"
   ]
  },
  {
   "cell_type": "code",
   "execution_count": null,
   "id": "dc0222a2-c5c8-4c26-b88a-7a8acbb23a20",
   "metadata": {
    "execution": {
     "iopub.execute_input": "2025-03-11T00:33:34.662965Z",
     "iopub.status.busy": "2025-03-11T00:33:34.662704Z",
     "iopub.status.idle": "2025-03-11T00:33:34.687491Z",
     "shell.execute_reply": "2025-03-11T00:33:34.686861Z",
     "shell.execute_reply.started": "2025-03-11T00:33:34.662946Z"
    },
    "trusted": true
   },
   "outputs": [],
   "source": [
    "dataset_shuffled"
   ]
  },
  {
   "cell_type": "code",
   "execution_count": null,
   "id": "f7b8eff3-e187-45d4-9b7a-05514505a2c4",
   "metadata": {
    "execution": {
     "iopub.execute_input": "2025-03-11T00:33:34.688807Z",
     "iopub.status.busy": "2025-03-11T00:33:34.688517Z",
     "iopub.status.idle": "2025-03-11T00:33:35.728304Z",
     "shell.execute_reply": "2025-03-11T00:33:35.727368Z",
     "shell.execute_reply.started": "2025-03-11T00:33:34.688778Z"
    },
    "trusted": true
   },
   "outputs": [],
   "source": [
    "tokenizer = AutoTokenizer.from_pretrained(\"morenolq/bart-it\")"
   ]
  },
  {
   "cell_type": "code",
   "execution_count": null,
   "id": "dc37f77d-6e28-4c55-ab13-e54e37915758",
   "metadata": {
    "execution": {
     "iopub.execute_input": "2025-03-11T00:33:35.729498Z",
     "iopub.status.busy": "2025-03-11T00:33:35.729249Z",
     "iopub.status.idle": "2025-03-11T00:33:42.944265Z",
     "shell.execute_reply": "2025-03-11T00:33:42.943567Z",
     "shell.execute_reply.started": "2025-03-11T00:33:35.729478Z"
    },
    "trusted": true
   },
   "outputs": [],
   "source": [
    "def filter_by_token_length(row):\n",
    "    # Tokenizza entrambe le colonne\n",
    "    normal_tokens = tokenizer(row['normal'], truncation=False, return_tensors=\"pt\")\n",
    "    simplified_tokens = tokenizer(row['simplified'], truncation=False, return_tensors=\"pt\")\n",
    "    # Controlla se entrambe le sequenze non superano max_length\n",
    "    \n",
    "    return len(normal_tokens.input_ids[0]) <= MAX_LENGTH and len(simplified_tokens.input_ids[0]) <= MAX_LENGTH\n",
    "\n",
    "# Applica la funzione al DataFrame e filtra le righe\n",
    "df_filtered_by_token_length = dataset_shuffled[dataset_shuffled.apply(filter_by_token_length, axis=1)]"
   ]
  },
  {
   "cell_type": "code",
   "execution_count": null,
   "id": "4db6fe1d-7713-4def-8e9e-50584ffe2cf6",
   "metadata": {
    "execution": {
     "iopub.execute_input": "2025-03-11T00:33:42.945220Z",
     "iopub.status.busy": "2025-03-11T00:33:42.944975Z",
     "iopub.status.idle": "2025-03-11T00:33:42.948900Z",
     "shell.execute_reply": "2025-03-11T00:33:42.948195Z",
     "shell.execute_reply.started": "2025-03-11T00:33:42.945200Z"
    },
    "trusted": true
   },
   "outputs": [],
   "source": [
    "df_filtered_by_token_length.reset_index(drop=True, inplace = True)"
   ]
  },
  {
   "cell_type": "code",
   "execution_count": null,
   "id": "46f5a4b8-ab3d-4993-89f7-780875f46999",
   "metadata": {
    "execution": {
     "iopub.execute_input": "2025-03-11T00:33:42.949959Z",
     "iopub.status.busy": "2025-03-11T00:33:42.949653Z",
     "iopub.status.idle": "2025-03-11T00:33:42.969945Z",
     "shell.execute_reply": "2025-03-11T00:33:42.969101Z",
     "shell.execute_reply.started": "2025-03-11T00:33:42.949926Z"
    },
    "trusted": true
   },
   "outputs": [],
   "source": [
    "df_filtered_by_token_length"
   ]
  },
  {
   "cell_type": "code",
   "execution_count": null,
   "id": "a33c367d-5b0a-40eb-9ef4-20d0da0de984",
   "metadata": {
    "execution": {
     "iopub.execute_input": "2025-03-11T00:33:42.971156Z",
     "iopub.status.busy": "2025-03-11T00:33:42.970853Z",
     "iopub.status.idle": "2025-03-11T00:33:42.985363Z",
     "shell.execute_reply": "2025-03-11T00:33:42.984411Z",
     "shell.execute_reply.started": "2025-03-11T00:33:42.971127Z"
    },
    "trusted": true
   },
   "outputs": [],
   "source": [
    "X_train, X_test, y_train, y_test = train_test_split(df_filtered_by_token_length[\"normal\"],\n",
    "                 df_filtered_by_token_length[\"simplified\"],\n",
    "                 test_size=0.2,\n",
    "                 random_state = 42)"
   ]
  },
  {
   "cell_type": "code",
   "execution_count": null,
   "id": "7cd84b35-b488-432f-a5c6-56e410c0383b",
   "metadata": {
    "execution": {
     "iopub.execute_input": "2025-03-11T00:33:42.986617Z",
     "iopub.status.busy": "2025-03-11T00:33:42.986332Z",
     "iopub.status.idle": "2025-03-11T00:33:42.999540Z",
     "shell.execute_reply": "2025-03-11T00:33:42.998534Z",
     "shell.execute_reply.started": "2025-03-11T00:33:42.986591Z"
    },
    "trusted": true
   },
   "outputs": [],
   "source": [
    "X_train, X_eval, y_train, y_eval = train_test_split(X_train,\n",
    "                 y_train,\n",
    "                 test_size=0.2,\n",
    "                 random_state = 42)"
   ]
  },
  {
   "cell_type": "code",
   "execution_count": null,
   "id": "09d4cd4c-b866-45a7-9d83-69b7e9cce44d",
   "metadata": {
    "execution": {
     "iopub.execute_input": "2025-03-11T00:33:43.000841Z",
     "iopub.status.busy": "2025-03-11T00:33:43.000479Z",
     "iopub.status.idle": "2025-03-11T00:33:43.008902Z",
     "shell.execute_reply": "2025-03-11T00:33:43.008160Z",
     "shell.execute_reply.started": "2025-03-11T00:33:43.000807Z"
    },
    "trusted": true
   },
   "outputs": [],
   "source": [
    "train_dataset = pd.concat([X_train, y_train], axis=1).reset_index(drop=True)\n",
    "eval_dataset = pd.concat([X_eval, y_eval], axis=1).reset_index(drop=True)\n",
    "test_dataset = pd.concat([X_test, y_test], axis=1).reset_index(drop=True)"
   ]
  },
  {
   "cell_type": "code",
   "execution_count": null,
   "id": "01dacb89-c8d9-4df3-ade0-87afe12d1c79",
   "metadata": {
    "execution": {
     "iopub.execute_input": "2025-03-11T00:33:43.009729Z",
     "iopub.status.busy": "2025-03-11T00:33:43.009560Z",
     "iopub.status.idle": "2025-03-11T00:33:43.094165Z",
     "shell.execute_reply": "2025-03-11T00:33:43.093538Z",
     "shell.execute_reply.started": "2025-03-11T00:33:43.009713Z"
    },
    "trusted": true
   },
   "outputs": [],
   "source": [
    "hf_dataset_train = Dataset.from_pandas(train_dataset)\n",
    "hf_dataset_eval = Dataset.from_pandas(eval_dataset)"
   ]
  },
  {
   "cell_type": "code",
   "execution_count": null,
   "id": "61cd1148-35cb-4f48-84f7-23135193dd12",
   "metadata": {
    "execution": {
     "iopub.execute_input": "2025-03-11T00:33:43.095448Z",
     "iopub.status.busy": "2025-03-11T00:33:43.095147Z",
     "iopub.status.idle": "2025-03-11T00:33:43.100059Z",
     "shell.execute_reply": "2025-03-11T00:33:43.099424Z",
     "shell.execute_reply.started": "2025-03-11T00:33:43.095420Z"
    },
    "trusted": true
   },
   "outputs": [],
   "source": [
    "def preprocess_function(examples):\n",
    "    inputs = examples['normal']\n",
    "    targets = examples['simplified']\n",
    "    model_inputs = tokenizer(inputs, max_length=MAX_LENGTH, padding=\"max_length\", truncation=True, return_tensors=\"pt\").to(device)\n",
    "    with tokenizer.as_target_tokenizer():\n",
    "        labels = tokenizer(targets, max_length=MAX_LENGTH, padding=\"max_length\", truncation=True, return_tensors=\"pt\").to(device)\n",
    "\n",
    "    model_inputs['labels'] = labels['input_ids']\n",
    "    return model_inputs"
   ]
  },
  {
   "cell_type": "code",
   "execution_count": null,
   "id": "3668d580-e0a1-4918-9b1c-965d17840893",
   "metadata": {
    "execution": {
     "iopub.execute_input": "2025-03-11T00:33:43.103134Z",
     "iopub.status.busy": "2025-03-11T00:33:43.102905Z",
     "iopub.status.idle": "2025-03-11T00:33:49.245310Z",
     "shell.execute_reply": "2025-03-11T00:33:49.244646Z",
     "shell.execute_reply.started": "2025-03-11T00:33:43.103108Z"
    },
    "trusted": true
   },
   "outputs": [],
   "source": [
    "tokenized_datasets_train = hf_dataset_train.map(preprocess_function, batched=True)"
   ]
  },
  {
   "cell_type": "code",
   "execution_count": null,
   "id": "f16395e0-59df-4452-aa1b-ce42b33a3a8d",
   "metadata": {
    "execution": {
     "iopub.execute_input": "2025-03-11T00:33:49.246596Z",
     "iopub.status.busy": "2025-03-11T00:33:49.246306Z",
     "iopub.status.idle": "2025-03-11T00:33:51.039135Z",
     "shell.execute_reply": "2025-03-11T00:33:51.038453Z",
     "shell.execute_reply.started": "2025-03-11T00:33:49.246573Z"
    },
    "trusted": true
   },
   "outputs": [],
   "source": [
    "hf_dataset_test = Dataset.from_pandas(test_dataset)\n",
    "tokenized_datasets_test= hf_dataset_test.map(preprocess_function, batched=True)"
   ]
  },
  {
   "cell_type": "code",
   "execution_count": null,
   "id": "970bee13-1313-4343-8b7c-051d4a755896",
   "metadata": {
    "execution": {
     "iopub.execute_input": "2025-03-11T00:33:51.040224Z",
     "iopub.status.busy": "2025-03-11T00:33:51.039902Z",
     "iopub.status.idle": "2025-03-11T00:33:53.411883Z",
     "shell.execute_reply": "2025-03-11T00:33:53.411010Z",
     "shell.execute_reply.started": "2025-03-11T00:33:51.040189Z"
    },
    "trusted": true
   },
   "outputs": [],
   "source": [
    "bleu = evaluate.load(\"bleu\")\n",
    "sari = evaluate.load(\"sari\")\n",
    "bertscore = evaluate.load(\"bertscore\")"
   ]
  },
  {
   "cell_type": "code",
   "execution_count": null,
   "id": "9566d6f5-cafe-4cb9-b7db-d72c4c57413f",
   "metadata": {
    "execution": {
     "iopub.execute_input": "2025-03-11T00:33:53.413185Z",
     "iopub.status.busy": "2025-03-11T00:33:53.412655Z",
     "iopub.status.idle": "2025-03-11T00:33:53.419344Z",
     "shell.execute_reply": "2025-03-11T00:33:53.418453Z",
     "shell.execute_reply.started": "2025-03-11T00:33:53.413160Z"
    },
    "trusted": true
   },
   "outputs": [],
   "source": [
    "def compute_metrics(pred):\n",
    "    # Decodifica i pred e gli input del modello\n",
    "    \n",
    "    textstat.set_lang(\"it\")\n",
    "    \n",
    "    labels_ids = pred.label_ids\n",
    "    pred_ids = pred.predictions\n",
    "    input_ids = pred.inputs\n",
    "    \n",
    "    pred_ids = np.where(pred_ids != -100, pred_ids, tokenizer.pad_token_id)\n",
    "    labels_ids = np.where(labels_ids != -100, labels_ids, tokenizer.pad_token_id)\n",
    "    input_ids = np.where(input_ids != -100, input_ids, tokenizer.pad_token_id)\n",
    "    \n",
    "    pred_str = tokenizer.batch_decode(pred_ids, skip_special_tokens=True)\n",
    "    label_str = tokenizer.batch_decode(labels_ids, skip_special_tokens=True)\n",
    "    input_str = tokenizer.batch_decode(input_ids, skip_special_tokens=True)\n",
    "    \n",
    "    results = bleu.compute(predictions=pred_str, references=label_str)\n",
    "        \n",
    "    flesch_reading_ease = sum(textstat.flesch_reading_ease(sent) for sent in pred_str) / len(pred_str)\n",
    "    \n",
    "    ref_arr = [[sent] for sent in label_str]\n",
    "    \n",
    "    sari_score = sari.compute(sources=input_str, predictions=pred_str, references=ref_arr)\n",
    "\n",
    "    #gulpease_index = sum(textstat.gulpease_index(sent) for sent in pred_str) / len(pred_str)\n",
    "\n",
    "    bert_score_results = bertscore.compute(predictions=pred_str, references=label_str, model_type=\"xlm-roberta-base\")\n",
    "    bert_score_results_f1 =sum(bert_score_results['f1']) / len(bert_score_results['f1'])\n",
    "    \n",
    "    return {\n",
    "        'bleu': results['bleu'],\n",
    "        'flesch_reading': flesch_reading_ease,\n",
    "        'sari': sari_score[\"sari\"],\n",
    "        'bertscore': bert_score_results_f1\n",
    "    }"
   ]
  },
  {
   "cell_type": "code",
   "execution_count": null,
   "id": "21910153-3e98-4ad8-9a3f-8045b3a44202",
   "metadata": {
    "execution": {
     "iopub.execute_input": "2025-03-11T00:33:53.420473Z",
     "iopub.status.busy": "2025-03-11T00:33:53.420238Z",
     "iopub.status.idle": "2025-03-11T00:33:53.466099Z",
     "shell.execute_reply": "2025-03-11T00:33:53.465289Z",
     "shell.execute_reply.started": "2025-03-11T00:33:53.420446Z"
    },
    "trusted": true
   },
   "outputs": [],
   "source": [
    "def run_eval(tokenizer, tokenized_datasets_train, tokenized_datasets_test, compute_metrics, name_model, model, num_beam, max_len):\n",
    "        training_args = Seq2SeqTrainingArguments(\n",
    "                output_dir = \"eval_time\",\n",
    "                run_name=\"eval_\" + name_model,\n",
    "                eval_strategy=\"epoch\", #\n",
    "                per_device_train_batch_size=32,#\n",
    "                per_device_eval_batch_size=4,\n",
    "                predict_with_generate=True, \n",
    "                generation_num_beams = num_beam,\n",
    "                generation_max_length = max_len,\n",
    "                include_inputs_for_metrics = True,\n",
    "                logging_strategy=\"epoch\"\n",
    "        )\n",
    "\n",
    "        trainer = Seq2SeqTrainer(\n",
    "            model=model,\n",
    "            args=training_args,\n",
    "            train_dataset=tokenized_datasets_train,\n",
    "            eval_dataset=tokenized_datasets_test,\n",
    "            compute_metrics=compute_metrics,\n",
    "            tokenizer=tokenizer,\n",
    "        )\n",
    "\n",
    "        eval = trainer.evaluate(tokenized_datasets_test)\n",
    "\n",
    "        del trainer\n",
    "        del training_args\n",
    "\n",
    "        torch.cuda.empty_cache()\n",
    "        \n",
    "        return eval"
   ]
  },
  {
   "cell_type": "code",
   "execution_count": null,
   "id": "c4669bc5-fe82-4c3c-a975-8146493ff1ff",
   "metadata": {
    "execution": {
     "iopub.execute_input": "2025-03-11T00:33:53.467209Z",
     "iopub.status.busy": "2025-03-11T00:33:53.466931Z",
     "iopub.status.idle": "2025-03-11T00:33:58.255128Z",
     "shell.execute_reply": "2025-03-11T00:33:58.254429Z",
     "shell.execute_reply.started": "2025-03-11T00:33:53.467177Z"
    },
    "trusted": true
   },
   "outputs": [],
   "source": [
    "model = AutoModelForSeq2SeqLM.from_pretrained(PATH_MODEL).to(device)"
   ]
  },
  {
   "cell_type": "code",
   "execution_count": null,
   "id": "721ab925-55de-4daf-a633-71a2ffc0e532",
   "metadata": {
    "execution": {
     "iopub.execute_input": "2025-03-11T00:33:58.256099Z",
     "iopub.status.busy": "2025-03-11T00:33:58.255842Z",
     "iopub.status.idle": "2025-03-11T01:02:23.547397Z",
     "shell.execute_reply": "2025-03-11T01:02:23.546672Z",
     "shell.execute_reply.started": "2025-03-11T00:33:58.256064Z"
    },
    "trusted": true
   },
   "outputs": [],
   "source": [
    "eval_test=run_eval(tokenizer, tokenized_datasets_train, tokenized_datasets_test, compute_metrics, NAME_MODEL, model, N_BEAM, MAX_LENGTH)"
   ]
  },
  {
   "cell_type": "code",
   "execution_count": null,
   "id": "21191a15-05c8-4f4d-ba7f-f40738d69739",
   "metadata": {
    "execution": {
     "iopub.execute_input": "2025-03-11T01:02:23.548607Z",
     "iopub.status.busy": "2025-03-11T01:02:23.548293Z",
     "iopub.status.idle": "2025-03-11T01:02:23.553544Z",
     "shell.execute_reply": "2025-03-11T01:02:23.552891Z",
     "shell.execute_reply.started": "2025-03-11T01:02:23.548576Z"
    },
    "trusted": true
   },
   "outputs": [],
   "source": [
    "eval_test"
   ]
  }
 ],
 "metadata": {
  "kaggle": {
   "accelerator": "nvidiaTeslaT4",
   "dataSources": [
    {
     "datasetId": 6834690,
     "sourceId": 10982208,
     "sourceType": "datasetVersion"
    },
    {
     "isSourceIdPinned": true,
     "modelId": 262720,
     "modelInstanceId": 241077,
     "sourceId": 281361,
     "sourceType": "modelInstanceVersion"
    },
    {
     "isSourceIdPinned": true,
     "modelId": 263029,
     "modelInstanceId": 241383,
     "sourceId": 281726,
     "sourceType": "modelInstanceVersion"
    }
   ],
   "dockerImageVersionId": 30919,
   "isGpuEnabled": true,
   "isInternetEnabled": true,
   "language": "python",
   "sourceType": "notebook"
  },
  "kernelspec": {
   "display_name": "Python 3",
   "language": "python",
   "name": "python3"
  },
  "language_info": {
   "codemirror_mode": {
    "name": "ipython",
    "version": 3
   },
   "file_extension": ".py",
   "mimetype": "text/x-python",
   "name": "python",
   "nbconvert_exporter": "python",
   "pygments_lexer": "ipython3",
   "version": "3.10.12"
  }
 },
 "nbformat": 4,
 "nbformat_minor": 5
}
